{
 "cells": [
  {
   "cell_type": "markdown",
   "id": "b097e738",
   "metadata": {},
   "source": [
    "## Capstone 1 - Part 2\n",
    "\n",
    "In the first part of the capstone, we focused on Data Retrieval, Data Preprocessing, Feature Engineering and Exploratory Data Analysis using Python & its libraries. Now we are going to shift gears and gain insights into our HR Analytics dataset using SQL.\n",
    "\n",
    "## TODO: Make use of SQL to do the following:\n",
    "\n",
    "### Create a SQLITE3 DB using the CSV file (2 pts). Please refer this [link](https://www.linkedin.com/pulse/accessing-sqlite3-database-from-jupyter-notebook-using-varun-lobo/) and this [link](https://www.geeksforgeeks.org/how-to-import-csv-file-in-sqlite-database-using-python/) to know more.\n",
    "\n",
    "### Calculate the Attrition Rate and summarize attrition (3 pts) by:\n",
    "- Gender\n",
    "- Department\n",
    "- Age\n",
    "- Average monthly income by job level\n",
    "- Years at company\n",
    "\n",
    "### Continue using SQL to explore main reasons for attrition (3 pts), For example:\n",
    "- Why do more people over 50 years old leave the company than people who aged 40-50?\n",
    "- Why do people with higher pay still leave the company?\n",
    "- Which factors drive employees who work at company less than 5 years to leave?\n",
    "\n",
    "### Effective Communication (2 pts)\n",
    "- Please make use of markdown cells to communicate your thought process, why did you think of performing a step? what was the observation from the query? etc.\n",
    "- The code should be commented so that it is readable for the reviewer.\n",
    "\n",
    "### Grading and Important Instructions\n",
    "- Each of the above steps are mandatory and should be completed in good faith\n",
    "- Make sure before submitting that the code is in fully working condition\n",
    "- It is fine to make use of ChatGPT, stackoverflow type resources, just provide the reference links from where you got it\n",
    "- Debugging is an art, if you find yourself stuck with errors, take help of stackoverflow and ChatGPT to resolve the issue and if it's still unresolved, reach out to me for help.\n",
    "- You need to score atleast 7/10 to pass the project, anything less than that will be marked required, needing resubmission.\n",
    "- Feedback will be provided on 3 levels (Awesome, Suggestion, & Required). Required changes are mandatory to be made.\n",
    "- For submission, please upload the project on github and share the link to the file with us through LMS."
   ]
  },
  {
   "cell_type": "markdown",
   "id": "179020d0",
   "metadata": {},
   "source": [
    "#### Calculate Attrition Rate\n"
   ]
  },
  {
   "cell_type": "code",
   "execution_count": 14,
   "id": "9e6465d9",
   "metadata": {},
   "outputs": [
    {
     "name": "stdout",
     "output_type": "stream",
     "text": [
      "Overall Attrition Rate: 16.12%\n"
     ]
    }
   ],
   "source": [
    "### Implement code\n",
    "import sqlite3\n",
    "import pandas as pd\n",
    "\n",
    "# Load CSV into a Pandas DataFrame\n",
    "df = pd.read_csv('/Users/farokh/Downloads/HR-Analytics.csv')\n",
    "\n",
    "# Create a connection to SQLite database\n",
    "conn = sqlite3.connect('db1.db')\n",
    "\n",
    "# Create a cursor object\n",
    "cur = conn.cursor()\n",
    "\n",
    "# Dynamically create a table based on the DataFrame\n",
    "df.to_sql('table1', conn, if_exists='replace', index=False)\n",
    "\n",
    "# Commit the transaction\n",
    "conn.commit()\n",
    "\n",
    "# Calculate the overall attrition rate\n",
    "attrition_rate = df['Attrition'].value_counts(normalize=True)['Yes'] * 100\n",
    "print(f'Overall Attrition Rate: {attrition_rate:.2f}%')"
   ]
  },
  {
   "cell_type": "markdown",
   "id": "41bab6fc",
   "metadata": {},
   "source": [
    "#### Sample Output\n",
    "\n",
    "![image](https://api-v4.skyprepapp.com/public_api/da/857886?view_key=eyJvYmplY3RfdHlwZSI6ImFydGljbGUiLCJvYmplY3RfaWQiOjg1Nzg4NiwiaG1hYyI6ImUyNGU0YWRhNWQwMDkxNWE2NWNiY2EwNGFlNDNiMTBlYmYyNWY0YzAiLCJleHBpcmVzX2F0Ijo0ODkxMzgxMTk5LCJvdHRfdG9rZW4iOm51bGx9)"
   ]
  },
  {
   "cell_type": "markdown",
   "id": "723146e8",
   "metadata": {},
   "source": [
    "#### Find Attrition by Gender"
   ]
  },
  {
   "cell_type": "code",
   "execution_count": 15,
   "id": "91cf1ab8",
   "metadata": {},
   "outputs": [
    {
     "name": "stdout",
     "output_type": "stream",
     "text": [
      "Attrition by Gender:\n",
      " Attrition         No        Yes\n",
      "Gender                         \n",
      "Female     85.204082  14.795918\n",
      "Male       82.993197  17.006803\n"
     ]
    }
   ],
   "source": [
    "# Calculate attrition rate by gender\n",
    "attrition_by_gender = df.groupby('Gender')['Attrition'].value_counts(normalize=True).unstack() * 100\n",
    "print(\"Attrition by Gender:\\n\", attrition_by_gender)"
   ]
  },
  {
   "cell_type": "markdown",
   "id": "8da31e8b",
   "metadata": {},
   "source": [
    "#### Sample output\n",
    "\n",
    "![image](https://api-v4.skyprepapp.com/public_api/da/857882?view_key=eyJvYmplY3RfdHlwZSI6ImFydGljbGUiLCJvYmplY3RfaWQiOjg1Nzg4MiwiaG1hYyI6IjM1NDU5N2E4MjZmMTMxNWFhMTA4NzFiYTFkZjQ5YjBhNTYyOWYwMzgiLCJleHBpcmVzX2F0Ijo0ODkxMzgxMTk5LCJvdHRfdG9rZW4iOm51bGx9)"
   ]
  },
  {
   "cell_type": "markdown",
   "id": "40708d2a",
   "metadata": {},
   "source": [
    "#### Find Attrition by Dept"
   ]
  },
  {
   "cell_type": "code",
   "execution_count": 16,
   "id": "58b8581b",
   "metadata": {},
   "outputs": [
    {
     "name": "stdout",
     "output_type": "stream",
     "text": [
      "Attrition by Department:\n",
      " Attrition                      No        Yes\n",
      "Department                                  \n",
      "Human Resources         80.952381  19.047619\n",
      "Research & Development  86.160250  13.839750\n",
      "Sales                   79.372197  20.627803\n"
     ]
    }
   ],
   "source": [
    "# Calculate attrition rate by department\n",
    "attrition_by_department = df.groupby('Department')['Attrition'].value_counts(normalize=True).unstack() * 100\n",
    "print(\"Attrition by Department:\\n\", attrition_by_department)"
   ]
  },
  {
   "cell_type": "markdown",
   "id": "e23bee46",
   "metadata": {},
   "source": [
    "#### Sample Output\n",
    "\n",
    "<img src=\"https://api-v4.skyprepapp.com/public_api/da/857884?view_key=eyJvYmplY3RfdHlwZSI6ImFydGljbGUiLCJvYmplY3RfaWQiOjg1Nzg4NCwiaG1hYyI6IjdmOTA4NzJjODZmYTgxOGUyMzkyYTBlZjhjYjljNjA4ZGM3NjkzMWYiLCJleHBpcmVzX2F0Ijo0ODkxMzgxMTk5LCJvdHRfdG9rZW4iOm51bGx9\" width=\"450\" height=\"450\">"
   ]
  },
  {
   "cell_type": "markdown",
   "id": "a2cef9d3",
   "metadata": {},
   "source": [
    "#### Find Attrition by Age Groups"
   ]
  },
  {
   "cell_type": "code",
   "execution_count": 17,
   "id": "088d0ac6",
   "metadata": {},
   "outputs": [
    {
     "name": "stdout",
     "output_type": "stream",
     "text": [
      "Attrition by Age Group:\n",
      " Attrition         No        Yes\n",
      "AgeGroup                       \n",
      "18-24      60.824742  39.175258\n",
      "25-34      79.783394  20.216606\n",
      "35-44      89.900990  10.099010\n",
      "45-54      89.795918  10.204082\n",
      "55-64      84.057971  15.942029\n"
     ]
    }
   ],
   "source": [
    "# Create age bins\n",
    "bins = [18, 25, 35, 45, 55, 65]\n",
    "labels = ['18-24', '25-34', '35-44', '45-54', '55-64']\n",
    "df['AgeGroup'] = pd.cut(df['Age'], bins=bins, labels=labels, right=False)\n",
    "\n",
    "# Calculate attrition rate by age group\n",
    "attrition_by_age = df.groupby('AgeGroup')['Attrition'].value_counts(normalize=True).unstack() * 100\n",
    "print(\"Attrition by Age Group:\\n\", attrition_by_age)"
   ]
  },
  {
   "cell_type": "markdown",
   "id": "7eb8bfc8",
   "metadata": {},
   "source": [
    "#### Sample Output\n",
    "\n",
    "![image](https://api-v4.skyprepapp.com/public_api/da/857885?view_key=eyJvYmplY3RfdHlwZSI6ImFydGljbGUiLCJvYmplY3RfaWQiOjg1Nzg4NSwiaG1hYyI6IjcwNGVlOWIwYzg1MmMwNmNhODg0NmYyZDFlNWE3OTU1MTFhMGVmYWYiLCJleHBpcmVzX2F0Ijo0ODkxMzgxMTk5LCJvdHRfdG9rZW4iOm51bGx9)"
   ]
  },
  {
   "cell_type": "markdown",
   "id": "67dbffff",
   "metadata": {},
   "source": [
    "#### Find Attrition by Monthly Income"
   ]
  },
  {
   "cell_type": "code",
   "execution_count": 18,
   "id": "9f954d18",
   "metadata": {},
   "outputs": [
    {
     "name": "stdout",
     "output_type": "stream",
     "text": [
      "Average Monthly Income by Job Level:\n",
      " JobLevel\n",
      "1     2786.915285\n",
      "2     5502.277154\n",
      "3     9817.252294\n",
      "4    15503.783019\n",
      "5    19191.826087\n",
      "Name: MonthlyIncome, dtype: float64\n"
     ]
    }
   ],
   "source": [
    "# Calculate average monthly income by job level\n",
    "avg_income_by_job_level = df.groupby('JobLevel')['MonthlyIncome'].mean()\n",
    "print(\"Average Monthly Income by Job Level:\\n\", avg_income_by_job_level)"
   ]
  },
  {
   "cell_type": "markdown",
   "id": "124f8cee",
   "metadata": {},
   "source": [
    "#### Sample Output\n",
    "\n",
    "![image](https://api-v4.skyprepapp.com/public_api/da/857883?view_key=eyJvYmplY3RfdHlwZSI6ImFydGljbGUiLCJvYmplY3RfaWQiOjg1Nzg4MywiaG1hYyI6Ijg3NTU4ZDU1ZjRjN2U1YWI3ODQzYjM1NzFkNjBjMjEwNGY5NWI5ODUiLCJleHBpcmVzX2F0Ijo0ODkxMzgxMTk5LCJvdHRfdG9rZW4iOm51bGx9)"
   ]
  },
  {
   "cell_type": "markdown",
   "id": "018c4ff6",
   "metadata": {},
   "source": [
    "#### Find Attrition by Years At Company"
   ]
  },
  {
   "cell_type": "code",
   "execution_count": 19,
   "id": "ee8af448",
   "metadata": {},
   "outputs": [
    {
     "name": "stdout",
     "output_type": "stream",
     "text": [
      "Attrition by Years at Company:\n",
      " Attrition               No         Yes\n",
      "YearsAtCompany                        \n",
      "0                63.636364   36.363636\n",
      "1                65.497076   34.502924\n",
      "2                78.740157   21.259843\n",
      "3                84.375000   15.625000\n",
      "4                82.727273   17.272727\n",
      "5                89.285714   10.714286\n",
      "6                88.157895   11.842105\n",
      "7                87.777778   12.222222\n",
      "8                88.750000   11.250000\n",
      "9                90.243902    9.756098\n",
      "10               85.000000   15.000000\n",
      "11               93.750000    6.250000\n",
      "12              100.000000         NaN\n",
      "13               91.666667    8.333333\n",
      "14               88.888889   11.111111\n",
      "15               95.000000    5.000000\n",
      "16               91.666667    8.333333\n",
      "17               88.888889   11.111111\n",
      "18               92.307692    7.692308\n",
      "19               90.909091    9.090909\n",
      "20               96.296296    3.703704\n",
      "21               92.857143    7.142857\n",
      "22               93.333333    6.666667\n",
      "23               50.000000   50.000000\n",
      "24               83.333333   16.666667\n",
      "25              100.000000         NaN\n",
      "26              100.000000         NaN\n",
      "27              100.000000         NaN\n",
      "29              100.000000         NaN\n",
      "30              100.000000         NaN\n",
      "31               66.666667   33.333333\n",
      "32               66.666667   33.333333\n",
      "33               80.000000   20.000000\n",
      "34              100.000000         NaN\n",
      "36              100.000000         NaN\n",
      "37              100.000000         NaN\n",
      "40                     NaN  100.000000\n"
     ]
    }
   ],
   "source": [
    "# Calculate attrition rate by years at company\n",
    "attrition_by_years_at_company = df.groupby('YearsAtCompany')['Attrition'].value_counts(normalize=True).unstack() * 100\n",
    "print(\"Attrition by Years at Company:\\n\", attrition_by_years_at_company)"
   ]
  },
  {
   "cell_type": "markdown",
   "id": "ae528e04",
   "metadata": {},
   "source": [
    "#### Sample Output\n",
    "\n",
    "![image](https://api-v4.skyprepapp.com/public_api/da/857881?view_key=eyJvYmplY3RfdHlwZSI6ImFydGljbGUiLCJvYmplY3RfaWQiOjg1Nzg4MSwiaG1hYyI6IjFhYmY3NGI4MzQ1NzViMWZkNDJlMjcwYTUyOTQ0OWQwZjJjMjhmNWUiLCJleHBpcmVzX2F0Ijo0ODkxMzgxMTk5LCJvdHRfdG9rZW4iOm51bGx9)"
   ]
  },
  {
   "cell_type": "markdown",
   "id": "b35f060a",
   "metadata": {},
   "source": [
    "#### Continue using SQL to explore main reasons for attrition (3 pts), For example:\n",
    "- Why do more people over 50 years old leave the company than people who aged 40-50?\n",
    "- Why do people with higher pay still leave the company?\n",
    "- Which factors drive employees who work at company less than 5 years to leave?"
   ]
  },
  {
   "cell_type": "markdown",
   "id": "e7712f24",
   "metadata": {},
   "source": [
    "Why do more people over 50 years old leave the company than people who aged 40-50?"
   ]
  },
  {
   "cell_type": "code",
   "execution_count": 22,
   "id": "263d4f81",
   "metadata": {},
   "outputs": [],
   "source": [
    "# Create the AgeGroups view\n",
    "cur.execute('''\n",
    "CREATE VIEW AgeGroups AS\n",
    "SELECT \n",
    "    CASE \n",
    "        WHEN Age < 40 THEN 'Under 40'\n",
    "        WHEN Age BETWEEN 40 AND 50 THEN '40-50'\n",
    "        ELSE 'Over 50'\n",
    "    END AS AgeGroup,\n",
    "    Attrition,\n",
    "    JobSatisfaction,\n",
    "    WorkLifeBalance,\n",
    "    JobRole,\n",
    "    MonthlyIncome,\n",
    "    YearsAtCompany\n",
    "FROM table1;\n",
    "''')\n",
    "\n",
    "# Commit the changes\n",
    "conn.commit()\n"
   ]
  },
  {
   "cell_type": "code",
   "execution_count": 23,
   "id": "af8ea822",
   "metadata": {},
   "outputs": [
    {
     "name": "stdout",
     "output_type": "stream",
     "text": [
      "('40-50', 379, 39, 10.29, 2.6728232189973613, 2.807387862796834)\n",
      "('Over 50', 143, 18, 12.59, 2.762237762237762, 2.629370629370629)\n",
      "('Under 40', 948, 180, 18.99, 2.7457805907172994, 2.7626582278481013)\n"
     ]
    }
   ],
   "source": [
    "# Execute a query on the age group view\n",
    "cur.execute('''\n",
    "SELECT \n",
    "    AgeGroup,\n",
    "    COUNT(*) AS TotalEmployees,\n",
    "    SUM(CASE WHEN Attrition = 'Yes' THEN 1 ELSE 0 END) AS Attritions,\n",
    "    ROUND(100.0 * SUM(CASE WHEN Attrition = 'Yes' THEN 1 ELSE 0 END) / COUNT(*), 2) AS AttritionRate,\n",
    "    AVG(JobSatisfaction) AS AvgJobSatisfaction,\n",
    "    AVG(WorkLifeBalance) AS AvgWorkLifeBalance\n",
    "FROM AgeGroups\n",
    "GROUP BY AgeGroup;\n",
    "''')\n",
    "\n",
    "# Fetch and print the results\n",
    "results = cur.fetchall()\n",
    "for row in results:\n",
    "    print(row)\n"
   ]
  },
  {
   "cell_type": "markdown",
   "id": "7497d818",
   "metadata": {},
   "source": [
    "Why do people with higher pay still leave the company?"
   ]
  },
  {
   "cell_type": "code",
   "execution_count": 24,
   "id": "395cf055",
   "metadata": {},
   "outputs": [
    {
     "name": "stdout",
     "output_type": "stream",
     "text": [
      "('High Income', 435, 47, 10.8, 2.708045977011494, 2.7839080459770114)\n",
      "('Low Income', 542, 137, 25.28, 2.7398523985239853, 2.7121771217712176)\n",
      "('Mid Income', 493, 53, 10.75, 2.734279918864097, 2.795131845841785)\n"
     ]
    }
   ],
   "source": [
    "## Create a view to categorize employees by income level\n",
    "cur.execute('''\n",
    "CREATE VIEW IncomeGroups AS\n",
    "SELECT \n",
    "    CASE \n",
    "        WHEN MonthlyIncome < 4000 THEN 'Low Income'\n",
    "        WHEN MonthlyIncome BETWEEN 4000 AND 7000 THEN 'Mid Income'\n",
    "        ELSE 'High Income'\n",
    "    END AS IncomeGroup,\n",
    "    Attrition,\n",
    "    JobSatisfaction,\n",
    "    WorkLifeBalance,\n",
    "    JobRole,\n",
    "    YearsAtCompany\n",
    "FROM table1;\n",
    "''')\n",
    "conn.commit()\n",
    "\n",
    "cur.execute('''\n",
    "SELECT \n",
    "    IncomeGroup,\n",
    "    COUNT(*) AS TotalEmployees,\n",
    "    SUM(CASE WHEN Attrition = 'Yes' THEN 1 ELSE 0 END) AS Attritions,\n",
    "    ROUND(100.0 * SUM(CASE WHEN Attrition = 'Yes' THEN 1 ELSE 0 END) / COUNT(*), 2) AS AttritionRate,\n",
    "    AVG(JobSatisfaction) AS AvgJobSatisfaction,\n",
    "    AVG(WorkLifeBalance) AS AvgWorkLifeBalance\n",
    "FROM IncomeGroups\n",
    "GROUP BY IncomeGroup;\n",
    "''')\n",
    "# Fetch and print the results\n",
    "results = cur.fetchall()\n",
    "for row in results:\n",
    "    print(row)"
   ]
  },
  {
   "cell_type": "code",
   "execution_count": null,
   "id": "ddb2895d",
   "metadata": {},
   "outputs": [],
   "source": [
    "Which factors drive employees who work at company less than 5 years to leave?"
   ]
  },
  {
   "cell_type": "code",
   "execution_count": 28,
   "id": "9b196b0b",
   "metadata": {},
   "outputs": [
    {
     "name": "stdout",
     "output_type": "stream",
     "text": [
      "('Sales Representative', 68, 30, 44.12, 2.661764705882353, 2.911764705882353, 2510.6470588235293)\n",
      "('Human Resources', 24, 9, 37.5, 2.4583333333333335, 3.0, 3560.7916666666665)\n",
      "('Laboratory Technician', 136, 46, 33.82, 2.75, 2.639705882352941, 2867.7573529411766)\n",
      "('Sales Executive', 89, 23, 25.84, 2.550561797752809, 2.651685393258427, 6548.539325842697)\n",
      "('Research Scientist', 146, 26, 17.81, 2.76027397260274, 2.6986301369863015, 2923.0479452054797)\n",
      "('Manufacturing Director', 42, 4, 9.52, 2.7857142857142856, 2.9047619047619047, 6379.261904761905)\n",
      "('Healthcare Representative', 36, 3, 8.33, 2.6944444444444446, 2.75, 6736.277777777777)\n",
      "('Research Director', 22, 0, 0.0, 2.4545454545454546, 2.8636363636363638, 16800.636363636364)\n",
      "('Manager', 17, 0, 0.0, 2.9411764705882355, 2.764705882352941, 16879.941176470587)\n"
     ]
    }
   ],
   "source": [
    "## Analyze attrition for employees with less than 5 years at the company\n",
    "cur.execute('''\n",
    "SELECT \n",
    "    JobRole,\n",
    "    COUNT(*) AS TotalEmployees,\n",
    "    SUM(CASE WHEN Attrition = 'Yes' THEN 1 ELSE 0 END) AS Attritions,\n",
    "    ROUND(100.0 * SUM(CASE WHEN Attrition = 'Yes' THEN 1 ELSE 0 END) / COUNT(*), 2) AS AttritionRate,\n",
    "    AVG(JobSatisfaction) AS AvgJobSatisfaction,\n",
    "    AVG(WorkLifeBalance) AS AvgWorkLifeBalance,\n",
    "    AVG(MonthlyIncome) AS AvgMonthlyIncome\n",
    "FROM table1\n",
    "WHERE YearsAtCompany < 5\n",
    "GROUP BY JobRole\n",
    "ORDER BY AttritionRate DESC;\n",
    "''')\n",
    "conn.commit\n",
    "\n",
    "# Fetch and print the results\n",
    "results = cur.fetchall()\n",
    "for row in results:\n",
    "    print(row)"
   ]
  },
  {
   "cell_type": "code",
   "execution_count": null,
   "id": "4ef2019f",
   "metadata": {},
   "outputs": [],
   "source": []
  }
 ],
 "metadata": {
  "kernelspec": {
   "display_name": "Python 3 (ipykernel)",
   "language": "python",
   "name": "python3"
  },
  "language_info": {
   "codemirror_mode": {
    "name": "ipython",
    "version": 3
   },
   "file_extension": ".py",
   "mimetype": "text/x-python",
   "name": "python",
   "nbconvert_exporter": "python",
   "pygments_lexer": "ipython3",
   "version": "3.9.12"
  }
 },
 "nbformat": 4,
 "nbformat_minor": 5
}
